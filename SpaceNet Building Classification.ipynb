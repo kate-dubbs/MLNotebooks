{
 "cells": [
  {
   "cell_type": "code",
   "execution_count": 1,
   "metadata": {},
   "outputs": [
    {
     "name": "stderr",
     "output_type": "stream",
     "text": [
      "/home/ubuntu/anaconda3/lib/python3.6/site-packages/geopandas_osm/osm.py:299: FutureWarning: by argument to sort_index is deprecated, please use .sort_values(by=...)\n",
      "  df = df.sort_index(by='index')[['lon', 'lat']]\n"
     ]
    }
   ],
   "source": [
    "import json\n",
    "\n",
    "import shapely.geometry\n",
    "import geopandas as gpd\n",
    "import geopandas_osm.osm\n",
    "\n",
    "meta_df = gpd.read_file('datasets/vectors/image_metadata.geojson')\n",
    "poly = shapely.geometry.box(*meta_df.unary_union.bounds)\n",
    "\n",
    "osm_df = geopandas_osm.osm.query_osm('way', poly, recurse='down', tags='building')\n",
    "building_columns = osm_df.columns\n",
    "\n",
    "buildings = osm_df[~osm_df.building.isnull()][['building', 'name', 'geometry']]\n",
    "building_centroids = buildings.set_geometry(buildings.centroid, inplace=False)\n",
    "building_centroids.to_file('datasets/vectors/building_centers.geojson', 'GeoJSON')"
   ]
  },
  {
   "cell_type": "code",
   "execution_count": 2,
   "metadata": {},
   "outputs": [
    {
     "data": {
      "text/plain": [
       "Counter({'abandoned': 1,\n",
       "         'amenity': 1,\n",
       "         'apartments': 18,\n",
       "         'church': 16,\n",
       "         'civic': 5,\n",
       "         'commercial': 9,\n",
       "         'construction': 3,\n",
       "         'farm': 1,\n",
       "         'garage': 133,\n",
       "         'garages': 10,\n",
       "         'greenhouse': 1,\n",
       "         'historic': 1,\n",
       "         'hospital': 1,\n",
       "         'house': 54,\n",
       "         'industrial': 3,\n",
       "         'kindergarten': 1,\n",
       "         'office': 5,\n",
       "         'public': 1,\n",
       "         'residential': 1010,\n",
       "         'retail': 49,\n",
       "         'roof': 41,\n",
       "         'school': 42,\n",
       "         'shop': 1,\n",
       "         'temple': 1,\n",
       "         'train_station': 13,\n",
       "         'walled': 1,\n",
       "         'warehouse': 1,\n",
       "         'yes': 68620})"
      ]
     },
     "execution_count": 2,
     "metadata": {},
     "output_type": "execute_result"
    }
   ],
   "source": [
    "from collections import Counter\n",
    "\n",
    "Counter(building_centroids.building.values)"
   ]
  },
  {
   "cell_type": "markdown",
   "metadata": {},
   "source": [
    "Refer to OSM Wiki for background on the above labels (http://wiki.openstreetmap.org/wiki/Map_Features#Building)"
   ]
  },
  {
   "cell_type": "code",
   "execution_count": 5,
   "metadata": {},
   "outputs": [
    {
     "name": "stderr",
     "output_type": "stream",
     "text": [
      "/home/ubuntu/anaconda3/lib/python3.6/site-packages/geopandas_osm/osm.py:299: FutureWarning: by argument to sort_index is deprecated, please use .sort_values(by=...)\n",
      "  df = df.sort_index(by='index')[['lon', 'lat']]\n"
     ]
    },
    {
     "name": "stdout",
     "output_type": "stream",
     "text": [
      "['cemetery' 'grass' 'forest' 'basin' 'retail' 'recreation_ground'\n",
      " 'industrial' 'farmyard' 'quarry' 'school' 'residential' 'vineyard'\n",
      " 'allotments' 'commercial' 'farmland' 'sand' 'construction' 'brownfield'\n",
      " 'greenhouse_horticulture' 'subdivision' 'meadow' 'greenfield']\n",
      "(329, 52)\n"
     ]
    }
   ],
   "source": [
    "osm_df = geopandas_osm.osm.query_osm('way', poly, recurse='down', tags='landuse')\n",
    "landuse = osm_df[~osm_df.landuse.isnull()]\n",
    "print(landuse.landuse.unique())\n",
    "print(landuse.shape)"
   ]
  },
  {
   "cell_type": "code",
   "execution_count": 6,
   "metadata": {},
   "outputs": [
    {
     "name": "stdout",
     "output_type": "stream",
     "text": [
      "['stream' 'riverbank' 'river']\n",
      "(43, 6)\n"
     ]
    },
    {
     "name": "stderr",
     "output_type": "stream",
     "text": [
      "/home/ubuntu/anaconda3/lib/python3.6/site-packages/geopandas_osm/osm.py:299: FutureWarning: by argument to sort_index is deprecated, please use .sort_values(by=...)\n",
      "  df = df.sort_index(by='index')[['lon', 'lat']]\n"
     ]
    }
   ],
   "source": [
    "osm_df = geopandas_osm.osm.query_osm('way', poly, recurse='down', tags='waterway')\n",
    "waterways = osm_df[~osm_df.waterway.isnull()]\n",
    "print(waterways.waterway.unique())\n",
    "print(waterways.shape)"
   ]
  },
  {
   "cell_type": "code",
   "execution_count": 8,
   "metadata": {},
   "outputs": [
    {
     "name": "stdout",
     "output_type": "stream",
     "text": [
      "['fell' 'water' 'wood' 'sand']\n",
      "(59, 9)\n"
     ]
    },
    {
     "name": "stderr",
     "output_type": "stream",
     "text": [
      "/home/ubuntu/anaconda3/lib/python3.6/site-packages/geopandas_osm/osm.py:299: FutureWarning: by argument to sort_index is deprecated, please use .sort_values(by=...)\n",
      "  df = df.sort_index(by='index')[['lon', 'lat']]\n"
     ]
    }
   ],
   "source": [
    "osm_df = geopandas_osm.osm.query_osm('way', poly, recurse='down', tags='natural')\n",
    "nature = osm_df[~osm_df.natural.isnull()]\n",
    "print(nature.natural.unique())\n",
    "print(nature.shape)"
   ]
  },
  {
   "cell_type": "code",
   "execution_count": 5,
   "metadata": {},
   "outputs": [
    {
     "ename": "RasterioIOError",
     "evalue": "'datasets/assets/MUL-PanSharpen_AOI_3_Paris_img100.tif' not recognized as a supported file format. ",
     "output_type": "error",
     "traceback": [
      "\u001b[0;31m---------------------------------------------------------------------------\u001b[0m",
      "\u001b[0;31mCPLE_OpenFailed\u001b[0m                           Traceback (most recent call last)",
      "\u001b[0;32mrasterio/_base.pyx\u001b[0m in \u001b[0;36mrasterio._base.DatasetReader.start (rasterio/_base.c:2847)\u001b[0;34m()\u001b[0m\n",
      "\u001b[0;32mrasterio/_base.pyx\u001b[0m in \u001b[0;36mrasterio._base.DatasetReader.start (rasterio/_base.c:2799)\u001b[0;34m()\u001b[0m\n",
      "\u001b[0;32mrasterio/_err.pyx\u001b[0m in \u001b[0;36mrasterio._err.CPLErrors.check (rasterio/_err.c:1773)\u001b[0;34m()\u001b[0m\n",
      "\u001b[0;31mCPLE_OpenFailed\u001b[0m: 'datasets/assets/MUL-PanSharpen_AOI_3_Paris_img100.tif' not recognized as a supported file format. ",
      "\nDuring handling of the above exception, another exception occurred:\n",
      "\u001b[0;31mRasterioIOError\u001b[0m                           Traceback (most recent call last)",
      "\u001b[0;32m<ipython-input-5-064f926e5b0b>\u001b[0m in \u001b[0;36m<module>\u001b[0;34m()\u001b[0m\n\u001b[1;32m      2\u001b[0m \u001b[0;34m\u001b[0m\u001b[0m\n\u001b[1;32m      3\u001b[0m \u001b[0mpath\u001b[0m \u001b[0;34m=\u001b[0m \u001b[0;34m\"datasets/assets/MUL-PanSharpen_AOI_3_Paris_img100.tif\"\u001b[0m\u001b[0;34m\u001b[0m\u001b[0m\n\u001b[0;32m----> 4\u001b[0;31m \u001b[0;32mwith\u001b[0m \u001b[0mrasterio\u001b[0m\u001b[0;34m.\u001b[0m\u001b[0mopen\u001b[0m\u001b[0;34m(\u001b[0m\u001b[0mpath\u001b[0m\u001b[0;34m)\u001b[0m \u001b[0;32mas\u001b[0m \u001b[0msrc\u001b[0m\u001b[0;34m:\u001b[0m\u001b[0;34m\u001b[0m\u001b[0m\n\u001b[0m\u001b[1;32m      5\u001b[0m     \u001b[0msrc\u001b[0m \u001b[0;34m=\u001b[0m \u001b[0msrc\u001b[0m\u001b[0;34m.\u001b[0m\u001b[0mread\u001b[0m\u001b[0;34m(\u001b[0m\u001b[0;34m)\u001b[0m\u001b[0;34m\u001b[0m\u001b[0m\n",
      "\u001b[0;32m~/anaconda3/lib/python3.6/site-packages/rasterio/__init__.py\u001b[0m in \u001b[0;36mopen\u001b[0;34m(path, mode, driver, width, height, count, crs, transform, dtype, nodata, **kwargs)\u001b[0m\n\u001b[1;32m    191\u001b[0m         raise ValueError(\n\u001b[1;32m    192\u001b[0m             \"mode string must be one of 'r', 'r+', or 'w', not %s\" % mode)\n\u001b[0;32m--> 193\u001b[0;31m     \u001b[0ms\u001b[0m\u001b[0;34m.\u001b[0m\u001b[0mstart\u001b[0m\u001b[0;34m(\u001b[0m\u001b[0;34m)\u001b[0m\u001b[0;34m\u001b[0m\u001b[0m\n\u001b[0m\u001b[1;32m    194\u001b[0m     \u001b[0;32mreturn\u001b[0m \u001b[0ms\u001b[0m\u001b[0;34m\u001b[0m\u001b[0m\n\u001b[1;32m    195\u001b[0m \u001b[0;34m\u001b[0m\u001b[0m\n",
      "\u001b[0;32mrasterio/_base.pyx\u001b[0m in \u001b[0;36mrasterio._base.DatasetReader.start (rasterio/_base.c:2969)\u001b[0;34m()\u001b[0m\n",
      "\u001b[0;31mRasterioIOError\u001b[0m: 'datasets/assets/MUL-PanSharpen_AOI_3_Paris_img100.tif' not recognized as a supported file format. "
     ]
    }
   ],
   "source": [
    "import rasterio\n",
    "\n",
    "path = \"datasets/assets/MUL-PanSharpen_AOI_3_Paris_img100.tif\"\n",
    "with rasterio.open(path) as src:\n",
    "    src = src.read()"
   ]
  },
  {
   "cell_type": "code",
   "execution_count": 1,
   "metadata": {},
   "outputs": [
    {
     "name": "stderr",
     "output_type": "stream",
     "text": [
      "/home/ubuntu/anaconda3/lib/python3.6/site-packages/matplotlib/font_manager.py:279: UserWarning: Matplotlib is building the font cache using fc-list. This may take a moment.\n",
      "  'Matplotlib is building the font cache using fc-list. '\n"
     ]
    },
    {
     "ename": "NameError",
     "evalue": "name 'src' is not defined",
     "output_type": "error",
     "traceback": [
      "\u001b[0;31m---------------------------------------------------------------------------\u001b[0m",
      "\u001b[0;31mNameError\u001b[0m                                 Traceback (most recent call last)",
      "\u001b[0;32m<ipython-input-1-0841d355800a>\u001b[0m in \u001b[0;36m<module>\u001b[0;34m()\u001b[0m\n\u001b[1;32m      5\u001b[0m \u001b[0;34m\u001b[0m\u001b[0m\n\u001b[1;32m      6\u001b[0m \u001b[0;31m# Load the RGB bands and transpose the image shape\u001b[0m\u001b[0;34m\u001b[0m\u001b[0;34m\u001b[0m\u001b[0m\n\u001b[0;32m----> 7\u001b[0;31m \u001b[0mimg\u001b[0m \u001b[0;34m=\u001b[0m \u001b[0msrc\u001b[0m\u001b[0;34m.\u001b[0m\u001b[0mread\u001b[0m\u001b[0;34m(\u001b[0m\u001b[0;34m[\u001b[0m\u001b[0;36m5\u001b[0m\u001b[0;34m,\u001b[0m \u001b[0;36m3\u001b[0m\u001b[0;34m,\u001b[0m \u001b[0;36m2\u001b[0m\u001b[0;34m]\u001b[0m\u001b[0;34m)\u001b[0m\u001b[0;34m.\u001b[0m\u001b[0mtranspose\u001b[0m\u001b[0;34m(\u001b[0m\u001b[0;34m[\u001b[0m\u001b[0;36m1\u001b[0m\u001b[0;34m,\u001b[0m\u001b[0;36m2\u001b[0m\u001b[0;34m,\u001b[0m\u001b[0;36m0\u001b[0m\u001b[0;34m]\u001b[0m\u001b[0;34m)\u001b[0m\u001b[0;34m\u001b[0m\u001b[0m\n\u001b[0m\u001b[1;32m      8\u001b[0m \u001b[0;34m\u001b[0m\u001b[0m\n\u001b[1;32m      9\u001b[0m \u001b[0;31m# Plot it\u001b[0m\u001b[0;34m\u001b[0m\u001b[0;34m\u001b[0m\u001b[0m\n",
      "\u001b[0;31mNameError\u001b[0m: name 'src' is not defined"
     ]
    }
   ],
   "source": [
    "import matplotlib.pyplot as plt\n",
    "import numpy as np\n",
    "\n",
    "%matplotlib inline\n",
    "\n",
    "# Load the RGB bands and transpose the image shape\n",
    "img = src.read([5, 3, 2]).transpose([1,2,0])\n",
    "\n",
    "# Plot it\n",
    "plt.imshow(img)"
   ]
  },
  {
   "cell_type": "code",
   "execution_count": null,
   "metadata": {},
   "outputs": [],
   "source": []
  }
 ],
 "metadata": {
  "kernelspec": {
   "display_name": "Python 3",
   "language": "python",
   "name": "python3"
  },
  "language_info": {
   "codemirror_mode": {
    "name": "ipython",
    "version": 3
   },
   "file_extension": ".py",
   "mimetype": "text/x-python",
   "name": "python",
   "nbconvert_exporter": "python",
   "pygments_lexer": "ipython3",
   "version": "3.6.3"
  }
 },
 "nbformat": 4,
 "nbformat_minor": 2
}
