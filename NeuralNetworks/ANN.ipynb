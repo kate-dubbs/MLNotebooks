{
 "cells": [
  {
   "cell_type": "markdown",
   "metadata": {
    "collapsed": true
   },
   "source": [
    "## Data Preprocessing"
   ]
  },
  {
   "cell_type": "markdown",
   "metadata": {},
   "source": [
    "This dataset is trying to predict whether or not a customer stays with a bank over time."
   ]
  },
  {
   "cell_type": "code",
   "execution_count": 16,
   "metadata": {},
   "outputs": [],
   "source": [
    "# Load in the data\n",
    "import os\n",
    "import pandas as pd\n",
    "\n",
    "DATASET_PATH = \"datasets/\"\n",
    "DATASET_NAME = \"Churn_Modelling.csv\"\n",
    "DATASET_URL = DATASET_PATH + DATASET_NAME\n",
    "\n",
    "def fetch_data(dataset_url=DATASET_URL, dataset_path=DATASET_PATH):\n",
    "    if not os.path.isdir(dataset_path):\n",
    "        os.makedirs(dataset_path)\n",
    "\n",
    "dataset = fetch_data()\n",
    "\n",
    "def load_data(dataset_path=DATASET_PATH, dataset_name=DATASET_NAME):\n",
    "    csv_path = os.path.join(dataset_path, dataset_name)\n",
    "    return pd.read_csv(csv_path)\n",
    "\n",
    "dataset = load_data()"
   ]
  },
  {
   "cell_type": "code",
   "execution_count": 17,
   "metadata": {},
   "outputs": [],
   "source": [
    "# Create training and test sets\n",
    "X = dataset.iloc[:, 3:13].values\n",
    "y = dataset.iloc[:, 13].values"
   ]
  },
  {
   "cell_type": "code",
   "execution_count": 18,
   "metadata": {},
   "outputs": [],
   "source": [
    "from sklearn.preprocessing import LabelEncoder, OneHotEncoder\n",
    "\n",
    "#Encode Countries\n",
    "labelencoder_X_1 = LabelEncoder()\n",
    "X[:, 1] = labelencoder_X_1.fit_transform(X[:, 1])\n",
    "\n",
    "#Encode Gender\n",
    "labelencoder_X_2 = LabelEncoder()\n",
    "X[:, 2] = labelencoder_X_2.fit_transform(X[:, 2])\n",
    "\n",
    "onehotencoder = OneHotEncoder(categorical_features = [1])\n",
    "X = onehotencoder.fit_transform(X).toarray()\n",
    "X = X[:, 1:] # Avoid dummy variable trap"
   ]
  },
  {
   "cell_type": "code",
   "execution_count": 19,
   "metadata": {},
   "outputs": [],
   "source": [
    "from sklearn.model_selection import train_test_split\n",
    "\n",
    "X_train, X_test, y_train, y_test = train_test_split(X, y, test_size=0.2, random_state = 0)"
   ]
  },
  {
   "cell_type": "code",
   "execution_count": 20,
   "metadata": {},
   "outputs": [],
   "source": [
    "from sklearn.preprocessing import StandardScaler\n",
    "sc = StandardScaler()\n",
    "X_train = sc.fit_transform(X_train)\n",
    "X_test = sc.transform(X_test)"
   ]
  },
  {
   "cell_type": "markdown",
   "metadata": {},
   "source": [
    "## Build ANN\n",
    "This model will use keras to build the neural network"
   ]
  },
  {
   "cell_type": "code",
   "execution_count": 21,
   "metadata": {},
   "outputs": [],
   "source": [
    "import keras\n",
    "from keras.models import Sequential\n",
    "from keras.layers import Dense\n",
    "\n",
    "classifier = Sequential()\n",
    "\n",
    "# Add input layer and first hidden layer - output_dim set as 11 (ind var) + 1 (dep var) = 12 / 2 = 6\n",
    "classifier.add(Dense(units = 6, kernel_initializer='uniform', activation='relu', input_dim=11))\n",
    "\n",
    "# Add second layer (not necessary for this dataset but useful for template)\n",
    "classifier.add(Dense(units = 6, kernel_initializer='uniform', activation='relu'))\n",
    "\n",
    "# Add output layer, for an output with multiple outputs change the output_dim and the activation to softmax\n",
    "classifier.add(Dense(units = 1, kernel_initializer='uniform', activation='sigmoid'))\n",
    "\n",
    "classifier.compile(optimizer = 'adam', loss='binary_crossentropy', metrics=['accuracy'])"
   ]
  },
  {
   "cell_type": "code",
   "execution_count": 22,
   "metadata": {},
   "outputs": [
    {
     "name": "stdout",
     "output_type": "stream",
     "text": [
      "Epoch 1/100\n",
      "8000/8000 [==============================] - 1s 178us/step - loss: 0.4851 - acc: 0.7962\n",
      "Epoch 2/100\n",
      "8000/8000 [==============================] - 1s 143us/step - loss: 0.4184 - acc: 0.8180\n",
      "Epoch 3/100\n",
      "8000/8000 [==============================] - 1s 143us/step - loss: 0.4056 - acc: 0.8290\n",
      "Epoch 4/100\n",
      "8000/8000 [==============================] - 1s 143us/step - loss: 0.3943 - acc: 0.8290\n",
      "Epoch 5/100\n",
      "8000/8000 [==============================] - 1s 143us/step - loss: 0.3873 - acc: 0.8300\n",
      "Epoch 6/100\n",
      "8000/8000 [==============================] - 1s 143us/step - loss: 0.3810 - acc: 0.8315\n",
      "Epoch 7/100\n",
      "8000/8000 [==============================] - 1s 143us/step - loss: 0.3765 - acc: 0.8372\n",
      "Epoch 8/100\n",
      "8000/8000 [==============================] - 1s 143us/step - loss: 0.3723 - acc: 0.8470\n",
      "Epoch 9/100\n",
      "8000/8000 [==============================] - 1s 142us/step - loss: 0.3687 - acc: 0.8471\n",
      "Epoch 10/100\n",
      "8000/8000 [==============================] - 1s 143us/step - loss: 0.3664 - acc: 0.8475\n",
      "Epoch 11/100\n",
      "8000/8000 [==============================] - 1s 143us/step - loss: 0.3635 - acc: 0.8502\n",
      "Epoch 12/100\n",
      "8000/8000 [==============================] - 1s 142us/step - loss: 0.3617 - acc: 0.8506\n",
      "Epoch 13/100\n",
      "8000/8000 [==============================] - 1s 142us/step - loss: 0.3590 - acc: 0.8545\n",
      "Epoch 14/100\n",
      "8000/8000 [==============================] - 1s 143us/step - loss: 0.3589 - acc: 0.8519\n",
      "Epoch 15/100\n",
      "8000/8000 [==============================] - 1s 143us/step - loss: 0.3564 - acc: 0.8534\n",
      "Epoch 16/100\n",
      "8000/8000 [==============================] - 1s 143us/step - loss: 0.3547 - acc: 0.8534\n",
      "Epoch 17/100\n",
      "8000/8000 [==============================] - 1s 143us/step - loss: 0.3540 - acc: 0.8547\n",
      "Epoch 18/100\n",
      "8000/8000 [==============================] - 1s 145us/step - loss: 0.3537 - acc: 0.8542\n",
      "Epoch 19/100\n",
      "8000/8000 [==============================] - 1s 143us/step - loss: 0.3516 - acc: 0.8565\n",
      "Epoch 20/100\n",
      "8000/8000 [==============================] - 1s 143us/step - loss: 0.3505 - acc: 0.8585\n",
      "Epoch 21/100\n",
      "8000/8000 [==============================] - 1s 145us/step - loss: 0.3503 - acc: 0.8562\n",
      "Epoch 22/100\n",
      "8000/8000 [==============================] - 1s 146us/step - loss: 0.3495 - acc: 0.8567\n",
      "Epoch 23/100\n",
      "8000/8000 [==============================] - 1s 144us/step - loss: 0.3494 - acc: 0.8576\n",
      "Epoch 24/100\n",
      "8000/8000 [==============================] - 1s 145us/step - loss: 0.3485 - acc: 0.8560\n",
      "Epoch 25/100\n",
      "8000/8000 [==============================] - 1s 144us/step - loss: 0.3483 - acc: 0.8539\n",
      "Epoch 26/100\n",
      "8000/8000 [==============================] - 1s 145us/step - loss: 0.3471 - acc: 0.8576\n",
      "Epoch 27/100\n",
      "8000/8000 [==============================] - 1s 145us/step - loss: 0.3462 - acc: 0.8571\n",
      "Epoch 28/100\n",
      "8000/8000 [==============================] - 1s 144us/step - loss: 0.3464 - acc: 0.8585\n",
      "Epoch 29/100\n",
      "8000/8000 [==============================] - 1s 144us/step - loss: 0.3461 - acc: 0.8589\n",
      "Epoch 30/100\n",
      "8000/8000 [==============================] - 1s 145us/step - loss: 0.3453 - acc: 0.8584\n",
      "Epoch 31/100\n",
      "8000/8000 [==============================] - 1s 143us/step - loss: 0.3444 - acc: 0.8606\n",
      "Epoch 32/100\n",
      "8000/8000 [==============================] - 1s 143us/step - loss: 0.3448 - acc: 0.8581\n",
      "Epoch 33/100\n",
      "8000/8000 [==============================] - 1s 142us/step - loss: 0.3439 - acc: 0.8589\n",
      "Epoch 34/100\n",
      "8000/8000 [==============================] - 1s 144us/step - loss: 0.3442 - acc: 0.8575\n",
      "Epoch 35/100\n",
      "8000/8000 [==============================] - 1s 143us/step - loss: 0.3442 - acc: 0.8577\n",
      "Epoch 36/100\n",
      "8000/8000 [==============================] - 1s 144us/step - loss: 0.3439 - acc: 0.8562\n",
      "Epoch 37/100\n",
      "8000/8000 [==============================] - 1s 143us/step - loss: 0.3432 - acc: 0.8587\n",
      "Epoch 38/100\n",
      "8000/8000 [==============================] - 1s 144us/step - loss: 0.3431 - acc: 0.8594\n",
      "Epoch 39/100\n",
      "8000/8000 [==============================] - 1s 145us/step - loss: 0.3430 - acc: 0.8574\n",
      "Epoch 40/100\n",
      "8000/8000 [==============================] - 1s 143us/step - loss: 0.3424 - acc: 0.8575\n",
      "Epoch 41/100\n",
      "8000/8000 [==============================] - 1s 143us/step - loss: 0.3420 - acc: 0.8595\n",
      "Epoch 42/100\n",
      "8000/8000 [==============================] - 1s 143us/step - loss: 0.3422 - acc: 0.8592\n",
      "Epoch 43/100\n",
      "8000/8000 [==============================] - 1s 144us/step - loss: 0.3415 - acc: 0.8594\n",
      "Epoch 44/100\n",
      "8000/8000 [==============================] - 1s 143us/step - loss: 0.3413 - acc: 0.8584\n",
      "Epoch 45/100\n",
      "8000/8000 [==============================] - 1s 143us/step - loss: 0.3415 - acc: 0.8606\n",
      "Epoch 46/100\n",
      "8000/8000 [==============================] - 1s 143us/step - loss: 0.3404 - acc: 0.8580\n",
      "Epoch 47/100\n",
      "8000/8000 [==============================] - 1s 145us/step - loss: 0.3403 - acc: 0.8619\n",
      "Epoch 48/100\n",
      "8000/8000 [==============================] - 1s 144us/step - loss: 0.3399 - acc: 0.8600\n",
      "Epoch 49/100\n",
      "8000/8000 [==============================] - 1s 143us/step - loss: 0.3400 - acc: 0.8595\n",
      "Epoch 50/100\n",
      "8000/8000 [==============================] - 1s 144us/step - loss: 0.3391 - acc: 0.8610\n",
      "Epoch 51/100\n",
      "8000/8000 [==============================] - 1s 144us/step - loss: 0.3397 - acc: 0.8605\n",
      "Epoch 52/100\n",
      "8000/8000 [==============================] - 1s 142us/step - loss: 0.3377 - acc: 0.8631\n",
      "Epoch 53/100\n",
      "8000/8000 [==============================] - 1s 143us/step - loss: 0.3397 - acc: 0.8594\n",
      "Epoch 54/100\n",
      "8000/8000 [==============================] - 1s 143us/step - loss: 0.3401 - acc: 0.8619\n",
      "Epoch 55/100\n",
      "8000/8000 [==============================] - 1s 144us/step - loss: 0.3391 - acc: 0.8619\n",
      "Epoch 56/100\n",
      "8000/8000 [==============================] - 1s 142us/step - loss: 0.3399 - acc: 0.8606\n",
      "Epoch 57/100\n",
      "8000/8000 [==============================] - 1s 143us/step - loss: 0.3382 - acc: 0.8625\n",
      "Epoch 58/100\n",
      "8000/8000 [==============================] - 1s 142us/step - loss: 0.3384 - acc: 0.8606\n",
      "Epoch 59/100\n",
      "8000/8000 [==============================] - 1s 142us/step - loss: 0.3398 - acc: 0.8594\n",
      "Epoch 60/100\n",
      "8000/8000 [==============================] - 1s 142us/step - loss: 0.3385 - acc: 0.8624\n",
      "Epoch 61/100\n",
      "8000/8000 [==============================] - 1s 141us/step - loss: 0.3387 - acc: 0.8615\n",
      "Epoch 62/100\n",
      "8000/8000 [==============================] - 1s 143us/step - loss: 0.3390 - acc: 0.8609\n",
      "Epoch 63/100\n",
      "8000/8000 [==============================] - 1s 140us/step - loss: 0.3383 - acc: 0.8602\n",
      "Epoch 64/100\n",
      "8000/8000 [==============================] - 1s 142us/step - loss: 0.3389 - acc: 0.8602\n",
      "Epoch 65/100\n",
      "8000/8000 [==============================] - 1s 142us/step - loss: 0.3376 - acc: 0.8624\n",
      "Epoch 66/100\n",
      "8000/8000 [==============================] - 1s 143us/step - loss: 0.3382 - acc: 0.8617\n",
      "Epoch 67/100\n",
      "8000/8000 [==============================] - 1s 143us/step - loss: 0.3385 - acc: 0.8621\n",
      "Epoch 68/100\n",
      "8000/8000 [==============================] - 1s 142us/step - loss: 0.3386 - acc: 0.8625\n",
      "Epoch 69/100\n",
      "8000/8000 [==============================] - 1s 142us/step - loss: 0.3383 - acc: 0.8611\n",
      "Epoch 70/100\n",
      "8000/8000 [==============================] - 1s 143us/step - loss: 0.3377 - acc: 0.8611\n",
      "Epoch 71/100\n",
      "8000/8000 [==============================] - 1s 144us/step - loss: 0.3373 - acc: 0.8599\n",
      "Epoch 72/100\n",
      "8000/8000 [==============================] - 1s 142us/step - loss: 0.3377 - acc: 0.8609\n",
      "Epoch 73/100\n",
      "8000/8000 [==============================] - 1s 142us/step - loss: 0.3375 - acc: 0.8622\n",
      "Epoch 74/100\n",
      "8000/8000 [==============================] - 1s 144us/step - loss: 0.3376 - acc: 0.8644\n",
      "Epoch 75/100\n",
      "8000/8000 [==============================] - 1s 144us/step - loss: 0.3367 - acc: 0.8617\n",
      "Epoch 76/100\n",
      "8000/8000 [==============================] - 1s 143us/step - loss: 0.3377 - acc: 0.8625\n",
      "Epoch 77/100\n",
      "8000/8000 [==============================] - 1s 143us/step - loss: 0.3378 - acc: 0.8612\n",
      "Epoch 78/100\n",
      "8000/8000 [==============================] - 1s 143us/step - loss: 0.3381 - acc: 0.8622\n",
      "Epoch 79/100\n",
      "8000/8000 [==============================] - 1s 144us/step - loss: 0.3383 - acc: 0.8606\n",
      "Epoch 80/100\n",
      "8000/8000 [==============================] - 1s 144us/step - loss: 0.3380 - acc: 0.8619\n",
      "Epoch 81/100\n",
      "8000/8000 [==============================] - 1s 145us/step - loss: 0.3375 - acc: 0.8595\n",
      "Epoch 82/100\n"
     ]
    },
    {
     "name": "stdout",
     "output_type": "stream",
     "text": [
      "8000/8000 [==============================] - 1s 143us/step - loss: 0.3375 - acc: 0.8604\n",
      "Epoch 83/100\n",
      "8000/8000 [==============================] - 1s 143us/step - loss: 0.3376 - acc: 0.8627\n",
      "Epoch 84/100\n",
      "8000/8000 [==============================] - 1s 143us/step - loss: 0.3375 - acc: 0.8626\n",
      "Epoch 85/100\n",
      "8000/8000 [==============================] - 1s 142us/step - loss: 0.3378 - acc: 0.8615\n",
      "Epoch 86/100\n",
      "8000/8000 [==============================] - 1s 142us/step - loss: 0.3366 - acc: 0.8609\n",
      "Epoch 87/100\n",
      "8000/8000 [==============================] - 1s 142us/step - loss: 0.3370 - acc: 0.8622\n",
      "Epoch 88/100\n",
      "8000/8000 [==============================] - 1s 143us/step - loss: 0.3366 - acc: 0.8612\n",
      "Epoch 89/100\n",
      "8000/8000 [==============================] - 1s 143us/step - loss: 0.3378 - acc: 0.8614\n",
      "Epoch 90/100\n",
      "8000/8000 [==============================] - 1s 142us/step - loss: 0.3386 - acc: 0.8605\n",
      "Epoch 91/100\n",
      "8000/8000 [==============================] - 1s 143us/step - loss: 0.3367 - acc: 0.8622\n",
      "Epoch 92/100\n",
      "8000/8000 [==============================] - 1s 142us/step - loss: 0.3367 - acc: 0.8621\n",
      "Epoch 93/100\n",
      "8000/8000 [==============================] - 1s 142us/step - loss: 0.3373 - acc: 0.8587\n",
      "Epoch 94/100\n",
      "8000/8000 [==============================] - 1s 143us/step - loss: 0.3372 - acc: 0.8640\n",
      "Epoch 95/100\n",
      "8000/8000 [==============================] - 1s 143us/step - loss: 0.3367 - acc: 0.8615\n",
      "Epoch 96/100\n",
      "8000/8000 [==============================] - 1s 143us/step - loss: 0.3364 - acc: 0.8610\n",
      "Epoch 97/100\n",
      "8000/8000 [==============================] - 1s 143us/step - loss: 0.3379 - acc: 0.8590\n",
      "Epoch 98/100\n",
      "8000/8000 [==============================] - 1s 143us/step - loss: 0.3367 - acc: 0.8627\n",
      "Epoch 99/100\n",
      "8000/8000 [==============================] - 1s 143us/step - loss: 0.3369 - acc: 0.8625\n",
      "Epoch 100/100\n",
      "8000/8000 [==============================] - 1s 141us/step - loss: 0.3370 - acc: 0.8630\n"
     ]
    },
    {
     "data": {
      "text/plain": [
       "<keras.callbacks.History at 0x7f3b41264668>"
      ]
     },
     "execution_count": 22,
     "metadata": {},
     "output_type": "execute_result"
    }
   ],
   "source": [
    "classifier.fit(X_train, y_train, batch_size=10, epochs=100)"
   ]
  },
  {
   "cell_type": "code",
   "execution_count": 25,
   "metadata": {},
   "outputs": [],
   "source": [
    "y_pred = classifier.predict(X_test)\n",
    "y_pred = (y_pred > 0.5)"
   ]
  },
  {
   "cell_type": "code",
   "execution_count": 31,
   "metadata": {},
   "outputs": [
    {
     "name": "stdout",
     "output_type": "stream",
     "text": [
      "Accuracy: 0.86\n",
      "Precision: 0.73\n",
      "Recall: 0.51\n",
      "F1 Score: 0.60\n",
      "Percentage True Positive: 75.90\n",
      "Percentage True Negative: 10.35\n"
     ]
    },
    {
     "data": {
      "text/plain": [
       "array([[1518,   77],\n",
       "       [ 198,  207]])"
      ]
     },
     "execution_count": 31,
     "metadata": {},
     "output_type": "execute_result"
    }
   ],
   "source": [
    "from sklearn.metrics import confusion_matrix, precision_score, recall_score, f1_score, accuracy_score\n",
    "\n",
    "cf_mat = confusion_matrix(y_test, y_pred)\n",
    "tp = cf_mat[0,0]\n",
    "tn = cf_mat[1,1]\n",
    "fp = cf_mat[1,0]\n",
    "fn = cf_mat[0,1]\n",
    "total = tp+tn+fp+fn\n",
    "\n",
    "#I'm cheating b/c test set is 100 data pts.\n",
    "print(\"Accuracy: %.2f\" % accuracy_score(y_test, y_pred))\n",
    "print(\"Precision: %.2f\" % precision_score(y_test, y_pred))\n",
    "print('Recall: %.2f' % recall_score(y_test, y_pred))\n",
    "print('F1 Score: %.2f' % f1_score(y_test, y_pred))\n",
    "print(\"Percentage True Positive: %.2f\" % ((tp/total)*100))\n",
    "print(\"Percentage True Negative: %.2f\" % ((tn/total)*100))\n",
    "confusion_matrix(y_test, y_pred)"
   ]
  },
  {
   "cell_type": "code",
   "execution_count": null,
   "metadata": {},
   "outputs": [],
   "source": []
  }
 ],
 "metadata": {
  "kernelspec": {
   "display_name": "Python 3",
   "language": "python",
   "name": "python3"
  },
  "language_info": {
   "codemirror_mode": {
    "name": "ipython",
    "version": 3
   },
   "file_extension": ".py",
   "mimetype": "text/x-python",
   "name": "python",
   "nbconvert_exporter": "python",
   "pygments_lexer": "ipython3",
   "version": "3.4.3"
  },
  "varInspector": {
   "cols": {
    "lenName": 16,
    "lenType": 16,
    "lenVar": 40
   },
   "kernels_config": {
    "python": {
     "delete_cmd_postfix": "",
     "delete_cmd_prefix": "del ",
     "library": "var_list.py",
     "varRefreshCmd": "print(var_dic_list())"
    },
    "r": {
     "delete_cmd_postfix": ") ",
     "delete_cmd_prefix": "rm(",
     "library": "var_list.r",
     "varRefreshCmd": "cat(var_dic_list()) "
    }
   },
   "types_to_exclude": [
    "module",
    "function",
    "builtin_function_or_method",
    "instance",
    "_Feature"
   ],
   "window_display": false
  }
 },
 "nbformat": 4,
 "nbformat_minor": 2
}
