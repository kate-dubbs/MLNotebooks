{
 "cells": [
  {
   "cell_type": "code",
   "execution_count": 1,
   "metadata": {},
   "outputs": [
    {
     "name": "stderr",
     "output_type": "stream",
     "text": [
      "/home/ubuntu/anaconda3/lib/python3.6/site-packages/geopandas_osm/osm.py:299: FutureWarning: by argument to sort_index is deprecated, please use .sort_values(by=...)\n",
      "  df = df.sort_index(by='index')[['lon', 'lat']]\n"
     ]
    }
   ],
   "source": [
    "import json\n",
    "\n",
    "import shapely.geometry\n",
    "import geopandas as gpd\n",
    "import geopandas_osm.osm\n",
    "\n",
    "meta_df = gpd.read_file('datasets/vectors/image_metadata.geojson')\n",
    "poly = shapely.geometry.box(*meta_df.unary_union.bounds)\n",
    "\n",
    "osm_df = geopandas_osm.osm.query_osm('way', poly, recurse='down', tags='building')\n",
    "building_columns = osm_df.columns\n",
    "\n",
    "buildings = osm_df[~osm_df.building.isnull()][['building', 'name', 'geometry']]\n",
    "building_centroids = buildings.set_geometry(buildings.centroid, inplace=False)\n",
    "building_centroids.to_file('datasets/vectors/building_centers.geojson', 'GeoJSON')"
   ]
  },
  {
   "cell_type": "code",
   "execution_count": 2,
   "metadata": {},
   "outputs": [
    {
     "data": {
      "text/plain": [
       "Counter({'abandoned': 1,\n",
       "         'amenity': 1,\n",
       "         'apartments': 18,\n",
       "         'church': 16,\n",
       "         'civic': 5,\n",
       "         'commercial': 9,\n",
       "         'construction': 3,\n",
       "         'farm': 1,\n",
       "         'garage': 133,\n",
       "         'garages': 10,\n",
       "         'greenhouse': 1,\n",
       "         'historic': 1,\n",
       "         'hospital': 1,\n",
       "         'house': 54,\n",
       "         'industrial': 3,\n",
       "         'kindergarten': 1,\n",
       "         'office': 5,\n",
       "         'public': 1,\n",
       "         'residential': 1010,\n",
       "         'retail': 49,\n",
       "         'roof': 41,\n",
       "         'school': 42,\n",
       "         'shop': 1,\n",
       "         'temple': 1,\n",
       "         'train_station': 13,\n",
       "         'walled': 1,\n",
       "         'warehouse': 1,\n",
       "         'yes': 68620})"
      ]
     },
     "execution_count": 2,
     "metadata": {},
     "output_type": "execute_result"
    }
   ],
   "source": [
    "from collections import Counter\n",
    "\n",
    "Counter(building_centroids.building.values)"
   ]
  },
  {
   "cell_type": "markdown",
   "metadata": {},
   "source": [
    "Refer to OSM Wiki for background on the above labels (http://wiki.openstreetmap.org/wiki/Map_Features#Building)"
   ]
  },
  {
   "cell_type": "code",
   "execution_count": 5,
   "metadata": {},
   "outputs": [
    {
     "name": "stderr",
     "output_type": "stream",
     "text": [
      "/home/ubuntu/anaconda3/lib/python3.6/site-packages/geopandas_osm/osm.py:299: FutureWarning: by argument to sort_index is deprecated, please use .sort_values(by=...)\n",
      "  df = df.sort_index(by='index')[['lon', 'lat']]\n"
     ]
    },
    {
     "name": "stdout",
     "output_type": "stream",
     "text": [
      "['cemetery' 'grass' 'forest' 'basin' 'retail' 'recreation_ground'\n",
      " 'industrial' 'farmyard' 'quarry' 'school' 'residential' 'vineyard'\n",
      " 'allotments' 'commercial' 'farmland' 'sand' 'construction' 'brownfield'\n",
      " 'greenhouse_horticulture' 'subdivision' 'meadow' 'greenfield']\n",
      "(329, 52)\n"
     ]
    }
   ],
   "source": [
    "osm_df = geopandas_osm.osm.query_osm('way', poly, recurse='down', tags='landuse')\n",
    "landuse = osm_df[~osm_df.landuse.isnull()]\n",
    "print(landuse.landuse.unique())\n",
    "print(landuse.shape)"
   ]
  },
  {
   "cell_type": "code",
   "execution_count": 6,
   "metadata": {},
   "outputs": [
    {
     "name": "stdout",
     "output_type": "stream",
     "text": [
      "['stream' 'riverbank' 'river']\n",
      "(43, 6)\n"
     ]
    },
    {
     "name": "stderr",
     "output_type": "stream",
     "text": [
      "/home/ubuntu/anaconda3/lib/python3.6/site-packages/geopandas_osm/osm.py:299: FutureWarning: by argument to sort_index is deprecated, please use .sort_values(by=...)\n",
      "  df = df.sort_index(by='index')[['lon', 'lat']]\n"
     ]
    }
   ],
   "source": [
    "osm_df = geopandas_osm.osm.query_osm('way', poly, recurse='down', tags='waterway')\n",
    "waterways = osm_df[~osm_df.waterway.isnull()]\n",
    "print(waterways.waterway.unique())\n",
    "print(waterways.shape)"
   ]
  },
  {
   "cell_type": "code",
   "execution_count": 8,
   "metadata": {},
   "outputs": [
    {
     "name": "stdout",
     "output_type": "stream",
     "text": [
      "['fell' 'water' 'wood' 'sand']\n",
      "(59, 9)\n"
     ]
    },
    {
     "name": "stderr",
     "output_type": "stream",
     "text": [
      "/home/ubuntu/anaconda3/lib/python3.6/site-packages/geopandas_osm/osm.py:299: FutureWarning: by argument to sort_index is deprecated, please use .sort_values(by=...)\n",
      "  df = df.sort_index(by='index')[['lon', 'lat']]\n"
     ]
    }
   ],
   "source": [
    "osm_df = geopandas_osm.osm.query_osm('way', poly, recurse='down', tags='natural')\n",
    "nature = osm_df[~osm_df.natural.isnull()]\n",
    "print(nature.natural.unique())\n",
    "print(nature.shape)"
   ]
  },
  {
   "cell_type": "code",
   "execution_count": null,
   "metadata": {},
   "outputs": [],
   "source": [
    "import rasterio\n",
    "src = rasterio.open('datasets/assets/MUL-PanSharpen_AOI_3_Paris_img100.tif')"
   ]
  },
  {
   "cell_type": "code",
   "execution_count": null,
   "metadata": {},
   "outputs": [],
   "source": []
  }
 ],
 "metadata": {
  "kernelspec": {
   "display_name": "Python 3",
   "language": "python",
   "name": "python3"
  },
  "language_info": {
   "codemirror_mode": {
    "name": "ipython",
    "version": 3
   },
   "file_extension": ".py",
   "mimetype": "text/x-python",
   "name": "python",
   "nbconvert_exporter": "python",
   "pygments_lexer": "ipython3",
   "version": "3.6.3"
  }
 },
 "nbformat": 4,
 "nbformat_minor": 2
}
