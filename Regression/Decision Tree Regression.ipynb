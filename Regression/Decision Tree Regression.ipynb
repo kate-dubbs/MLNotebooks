{
 "cells": [
  {
   "cell_type": "markdown",
   "metadata": {},
   "source": [
    "## Decision Tree Regression\n",
    "### Advantages: Interpretability, no need for feature scaling, works on both linear/non-linear problems\n",
    "### Disadvantages: Poor results on too small datasets, overfitting can easily occur"
   ]
  },
  {
   "cell_type": "code",
   "execution_count": 1,
   "metadata": {},
   "outputs": [],
   "source": [
    "# Preprocess the data\n",
    "import os\n",
    "import pandas as pd\n",
    "\n",
    "DATASET_PATH = \"datasets/pos_salaries\"\n",
    "DATASET_URL = DATASET_PATH + \"/Position_Salaries.csv\"\n",
    "\n",
    "def fetch_data(dataset_url=DATASET_URL, dataset_path=DATASET_PATH):\n",
    "    if not os.path.isdir(dataset_path):\n",
    "        os.makedirs(dataset_path)\n",
    "\n",
    "dataset = fetch_data()\n",
    "\n",
    "def load_data(dataset_path=DATASET_PATH):\n",
    "    csv_path = os.path.join(dataset_path, \"Position_Salaries.csv\")\n",
    "    return pd.read_csv(csv_path)\n",
    "\n",
    "dataset = load_data()"
   ]
  },
  {
   "cell_type": "code",
   "execution_count": 3,
   "metadata": {},
   "outputs": [],
   "source": [
    "# Define X and y vectors - dataset is very small so I'm not making a train/test set\n",
    "X = dataset.iloc[:, 1:2].values\n",
    "y = dataset.iloc[:, 2].values"
   ]
  },
  {
   "cell_type": "code",
   "execution_count": 5,
   "metadata": {},
   "outputs": [
    {
     "name": "stdout",
     "output_type": "stream",
     "text": [
      "Estimated salary: 150000.00\n"
     ]
    }
   ],
   "source": [
    "# Define the regression algorithm, try to see how close estimate of 6.5yrs is to $160k\n",
    "from sklearn.tree import DecisionTreeRegressor\n",
    "regressor = DecisionTreeRegressor(random_state = 0)\n",
    "regressor.fit(X, y)\n",
    "\n",
    "y_pred = regressor.predict(6.5)\n",
    "print(\"Estimated salary: %.2f\" % y_pred)"
   ]
  },
  {
   "cell_type": "code",
   "execution_count": 10,
   "metadata": {},
   "outputs": [
    {
     "data": {
      "image/png": "[encoded data removed]",
      "text/plain": [
       "<matplotlib.figure.Figure at 0x114234f60>"
      ]
     },
     "metadata": {},
     "output_type": "display_data"
    }
   ],
   "source": [
    "# Visualize the results\n",
    "import matplotlib.pyplot as plt\n",
    "import numpy as np\n",
    "\n",
    "X_grid = np.arange(min(X), max(X), 0.01)\n",
    "X_grid = X_grid.reshape((len(X_grid), 1))\n",
    "\n",
    "plt.scatter(X, y, color='black')\n",
    "plt.plot(X_grid, regressor.predict(X_grid), color='blue')\n",
    "plt.title(\"Decision Tree Salary Estimator\")\n",
    "plt.xlabel(\"Position Level\")\n",
    "plt.ylabel(\"Salary\")\n",
    "plt.show()"
   ]
  },
  {
   "cell_type": "code",
   "execution_count": 11,
   "metadata": {},
   "outputs": [
    {
     "name": "stdout",
     "output_type": "stream",
     "text": [
      "Mean squared error: 0.00\n",
      "Variance score: 1.00\n"
     ]
    }
   ],
   "source": [
    "# Performance Metrics\n",
    "from sklearn.metrics import mean_squared_error, r2_score\n",
    "\n",
    "y_pred = regressor.predict(X)\n",
    "print(\"Mean squared error: %.2f\" % mean_squared_error(y, y_pred))\n",
    "# Explained variance score: 1 is perfect prediction\n",
    "print('Variance score: %.2f' % r2_score(y, y_pred))"
   ]
  },
  {
   "cell_type": "code",
   "execution_count": null,
   "metadata": {},
   "outputs": [],
   "source": []
  }
 ],
 "metadata": {
  "kernelspec": {
   "display_name": "Python 3",
   "language": "python",
   "name": "python3"
  },
  "language_info": {
   "codemirror_mode": {
    "name": "ipython",
    "version": 3
   },
   "file_extension": ".py",
   "mimetype": "text/x-python",
   "name": "python",
   "nbconvert_exporter": "python",
   "pygments_lexer": "ipython3",
   "version": "3.6.1"
  }
 },
 "nbformat": 4,
 "nbformat_minor": 2
}
